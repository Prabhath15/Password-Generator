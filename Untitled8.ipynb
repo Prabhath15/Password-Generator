{
 "cells": [
  {
   "cell_type": "code",
   "execution_count": null,
   "id": "5e485d7a",
   "metadata": {},
   "outputs": [
    {
     "name": "stdout",
     "output_type": "stream",
     "text": [
      "Welcome to the PyPassword Generator!\n"
     ]
    }
   ],
   "source": [
    "import random\n",
    "import string\n",
    "\n",
    "print(\"Welcome to the PyPassword Generator!\")\n",
    "\n",
    "length = int(input(\"Enter the length of password: \"))  \n",
    "\n",
    "lower = string.ascii_lowercase\n",
    "upper = string.ascii_uppercase\n",
    "num = string.digits\n",
    "symbols = string.punctuation\n",
    "\n",
    "all = lower + upper + num + symbols\n",
    "\n",
    "password = \"\".join(random.sample(all,length)) \n",
    "\n",
    "print(f\"The generated password is: {password}\")"
   ]
  },
  {
   "cell_type": "code",
   "execution_count": null,
   "id": "6ff8d8dd",
   "metadata": {},
   "outputs": [],
   "source": []
  }
 ],
 "metadata": {
  "kernelspec": {
   "display_name": "Python 3 (ipykernel)",
   "language": "python",
   "name": "python3"
  },
  "language_info": {
   "codemirror_mode": {
    "name": "ipython",
    "version": 3
   },
   "file_extension": ".py",
   "mimetype": "text/x-python",
   "name": "python",
   "nbconvert_exporter": "python",
   "pygments_lexer": "ipython3",
   "version": "3.11.5"
  }
 },
 "nbformat": 4,
 "nbformat_minor": 5
}
